{
 "cells": [
  {
   "cell_type": "code",
   "execution_count": 2,
   "metadata": {},
   "outputs": [],
   "source": [
    "import numpy as np\n",
    "import tensorflow as tf"
   ]
  },
  {
   "cell_type": "code",
   "execution_count": 3,
   "metadata": {},
   "outputs": [
    {
     "name": "stdout",
     "output_type": "stream",
     "text": [
      "Overwriting utils/Utils.py\n"
     ]
    }
   ],
   "source": [
    "%%writefile utils/Utils.py\n",
    "from tensorflow.python.client import device_lib\n",
    "\n",
    "\n",
    "def get_available_gpus():\n",
    "    local_device_protos = device_lib.list_local_devices()\n",
    "    return [x.name for x in local_device_protos if x.device_type == 'GPU']\n",
    "\n",
    "def get_ip(domain):\n",
    "    import requests\n",
    "    from bs4 import BeautifulSoup\n",
    "    url = \"http://ip.chinaz.com/\" + domain\n",
    "    resp = requests.get(url)\n",
    "    soup = BeautifulSoup(resp.text)\n",
    "    x = soup.find(class_=\"IcpMain02\")\n",
    "\n",
    "    x = x.find_all(\"span\", class_=\"Whwtdhalf\")\n",
    "    try:\n",
    "        print(\"%s %s\" % (x[5].text, x[4].text))\n",
    "    except:\n",
    "        pass\n",
    "\n",
    "\n",
    "get_available_gpus()\n",
    "device_lib.list_local_devices()"
   ]
  },
  {
   "cell_type": "code",
   "execution_count": 1,
   "metadata": {},
   "outputs": [],
   "source": [
    "% run -i utils/Utils.py"
   ]
  },
  {
   "cell_type": "code",
   "execution_count": 2,
   "metadata": {},
   "outputs": [
    {
     "name": "stdout",
     "output_type": "stream",
     "text": [
      "199.59.148.14 api.avgle.com\n"
     ]
    },
    {
     "name": "stderr",
     "output_type": "stream",
     "text": [
      "/home/f1001/.pyenv/versions/3.5.4/lib/python3.5/site-packages/bs4/__init__.py:181: UserWarning: No parser was explicitly specified, so I'm using the best available HTML parser for this system (\"lxml\"). This usually isn't a problem, but if you run this code on another system, or in a different virtual environment, it may use a different parser and behave differently.\n",
      "\n",
      "The code that caused this warning is on line 193 of the file /home/f1001/.pyenv/versions/3.5.4/lib/python3.5/runpy.py. To get rid of this warning, change code that looks like this:\n",
      "\n",
      " BeautifulSoup(YOUR_MARKUP})\n",
      "\n",
      "to this:\n",
      "\n",
      " BeautifulSoup(YOUR_MARKUP, \"lxml\")\n",
      "\n",
      "  markup_type=markup_type))\n"
     ]
    }
   ],
   "source": [
    "get_ip(\"https://api.avgle.com\")"
   ]
  },
  {
   "cell_type": "code",
   "execution_count": 8,
   "metadata": {},
   "outputs": [],
   "source": [
    "if 'session' in locals() and session is not None:\n",
    "    print(session)\n",
    "    print('Close interactive session')\n",
    "    session.close()"
   ]
  },
  {
   "cell_type": "code",
   "execution_count": null,
   "metadata": {},
   "outputs": [],
   "source": [
    "def read_ops():\n",
    "    pass"
   ]
  },
  {
   "cell_type": "code",
   "execution_count": 1,
   "metadata": {},
   "outputs": [
    {
     "name": "stderr",
     "output_type": "stream",
     "text": [
      "UsageError: %%writefile is a cell magic, but the cell body is empty.\n"
     ]
    }
   ],
   "source": [
    "# %%writefile spark_02.py\n",
    "# # -*- coding: utf-8 -*-\n",
    "# import os\n",
    "# import sys\n",
    "\n",
    "# import pandas as pd\n",
    "# from pyspark.sql import SparkSession\n",
    "# from pyspark.sql import SQLContext\n",
    "\n",
    "# PROJECT_DIR = os.path.abspath('..')\n",
    "# SPARK_HOME = '/opt/modules'  + '/spark-2.3.0'\n",
    "\n",
    "# os.environ['SPARK_HOME'] = SPARK_HOME\n",
    "# sys.path.append(SPARK_HOME + \"/python\")\n",
    "# sys.path.append(SPARK_HOME + \"/python/lib/py4j-0.10.4-src.zip\")\n",
    "# print(sys.path)\n",
    "# from pyspark import SparkContext, SparkConf\n",
    "\n",
    "# appName = \"spark2django\"  # 应用程序名称\n",
    "# master = \"spark://192.168.100.34:7077\"  # 222.28.78.90:7077为主节点ip和端口，请换成自己的主节点主机名称\n",
    "# conf = SparkConf().setAppName(appName).setMaster(master)\n",
    "# sc = SparkContext(conf=conf)\n",
    "\n",
    "\n",
    "# def getTest():\n",
    "#     data = [1, 2, 3, 4, 5]\n",
    "#     distData = sc.parallelize(data)\n",
    "#     res = distData.reduce(lambda a, b: a + b)\n",
    "#     print (res)\n",
    "#     return res\n",
    "# def textfile():\n",
    "#     text_file = sc.textFile(\"hdfs:///sparkdir/dfile1\")\n",
    "#     print(text_file.collect())\n",
    "#     df = text_file.map(lambda r: Row(r)).toDF([\"line\"])\n",
    "#     print(df)\n",
    "    \n",
    "# def save_2_mysql():\n",
    "\n",
    "\n",
    "# def map_extract(element):\n",
    "#     file_path, content = element\n",
    "#     year = file_path[-8:-4]\n",
    "#     return [(year, i) for i in content.split(\"\\r\\n\") if i]\n",
    "# spark = SparkSession\\\n",
    "#     .builder\\\n",
    "#     .appName(\"PythonTest\")\\\n",
    "#     .getOrCreate()\n",
    "\n",
    "# res = spark.sparkContext.wholeTextFiles('hdfs://localhost:8020/datatnt/names',\n",
    "#                         minPartitions=40)  \\\n",
    "#         .map(map_extract) \\\n",
    "#         .flatMap(lambda x: x) \\\n",
    "#         .map(lambda x: (x[0], int(x[1].split(',')[2]))) \\\n",
    "#         .reduceByKey(lambda x,y:x+y)\n",
    "\n",
    "# df = res.toDF([\"key\",\"num\"])  #把已有数据列改成和目标mysql表的列的名字相同\n",
    "# # print(dir(df))\n",
    "# df.printSchema()\n",
    "# print(df.show())\n",
    "# df.printSchema()\n",
    "\n",
    "# df.write.format(\"jdbc\").options(\n",
    "#     url=\"jdbc:mysql://localhost:3306/leaf\",\n",
    "#     driver=\"com.mysql.cj.jdbc.Driver\",\n",
    "#     dbtable=\"spark\",\n",
    "#     user=\"root\",\n",
    "#     password=\"xx@123456\").mode('append').save()\n",
    "# if __name__ == '__main__':\n",
    "#     getTest()\n",
    "#     #textfile()\n"
   ]
  },
  {
   "cell_type": "code",
   "execution_count": 2,
   "metadata": {},
   "outputs": [],
   "source": [
    "# !git st"
   ]
  },
  {
   "cell_type": "code",
   "execution_count": 7,
   "metadata": {},
   "outputs": [],
   "source": [
    "def sample_Z(m, n, h):\n",
    "    return np.random.uniform(-1., 1., size=[m, n, h])"
   ]
  },
  {
   "cell_type": "code",
   "execution_count": 8,
   "metadata": {},
   "outputs": [],
   "source": [
    "feature = sample_Z(2,35,7)"
   ]
  },
  {
   "cell_type": "code",
   "execution_count": 9,
   "metadata": {},
   "outputs": [
    {
     "data": {
      "text/plain": [
       "(2, 35, 7)"
      ]
     },
     "execution_count": 9,
     "metadata": {},
     "output_type": "execute_result"
    }
   ],
   "source": [
    "feature.shape"
   ]
  },
  {
   "cell_type": "code",
   "execution_count": 23,
   "metadata": {},
   "outputs": [],
   "source": [
    "mask = tf.not_equal(tf.reduce_max(feature, axis=1), 0)"
   ]
  },
  {
   "cell_type": "code",
   "execution_count": 24,
   "metadata": {},
   "outputs": [],
   "source": [
    "with tf.Session() as sess:\n",
    "    result = sess.run(mask)"
   ]
  },
  {
   "cell_type": "code",
   "execution_count": 25,
   "metadata": {},
   "outputs": [
    {
     "data": {
      "text/plain": [
       "(2, 7)"
      ]
     },
     "execution_count": 25,
     "metadata": {},
     "output_type": "execute_result"
    }
   ],
   "source": [
    "result.shape"
   ]
  },
  {
   "cell_type": "code",
   "execution_count": 27,
   "metadata": {},
   "outputs": [],
   "source": [
    "p = (1, 1, 1)\n",
    "temp_p = np.array(p)\n",
    "temp_p = np.lib.pad(temp_p, (1, 1), 'constant', constant_values=(0, 0))"
   ]
  },
  {
   "cell_type": "code",
   "execution_count": 28,
   "metadata": {},
   "outputs": [
    {
     "data": {
      "text/plain": [
       "array([0, 1, 1, 1, 0])"
      ]
     },
     "execution_count": 28,
     "metadata": {},
     "output_type": "execute_result"
    }
   ],
   "source": [
    "temp_p"
   ]
  },
  {
   "cell_type": "code",
   "execution_count": 6,
   "metadata": {},
   "outputs": [
    {
     "name": "stdout",
     "output_type": "stream",
     "text": [
      "1\n",
      "2\n",
      "3\n",
      "4\n",
      "5\n",
      "6\n",
      "7\n",
      "8\n",
      "9\n",
      "10\n",
      "11\n",
      "12\n",
      "13\n"
     ]
    }
   ],
   "source": [
    "for i in range(1,14):\n",
    "    print(i)"
   ]
  },
  {
   "cell_type": "code",
   "execution_count": 7,
   "metadata": {},
   "outputs": [
    {
     "name": "stdout",
     "output_type": "stream",
     "text": [
      "{1: [1, 3, 5, 8], 2: [2, 4, 6, 8]}\n"
     ]
    }
   ],
   "source": [
    "nodes = {1:[1, 3, 5], 2: [2, 4, 6]}\n",
    "\n",
    "for node in nodes.values():\n",
    "    node.append(8)\n",
    "print(nodes)"
   ]
  },
  {
   "cell_type": "code",
   "execution_count": 21,
   "metadata": {},
   "outputs": [
    {
     "name": "stdout",
     "output_type": "stream",
     "text": [
      "<class 'int'>\n",
      "<class 'int'>\n"
     ]
    }
   ],
   "source": [
    "nodes2 = {1:1, 2: 2}\n",
    "for node in nodes2.values():\n",
    "    print(type(node))\n",
    "    node = 2"
   ]
  },
  {
   "cell_type": "code",
   "execution_count": 19,
   "metadata": {},
   "outputs": [
    {
     "data": {
      "text/plain": [
       "{1: 1, 2: 2}"
      ]
     },
     "execution_count": 19,
     "metadata": {},
     "output_type": "execute_result"
    }
   ],
   "source": [
    "nodes2"
   ]
  },
  {
   "cell_type": "code",
   "execution_count": 20,
   "metadata": {},
   "outputs": [
    {
     "data": {
      "text/plain": [
       "{1: [1, 3, 5, 8], 2: [2, 4, 6, 8]}"
      ]
     },
     "execution_count": 20,
     "metadata": {},
     "output_type": "execute_result"
    }
   ],
   "source": [
    "nodes"
   ]
  },
  {
   "cell_type": "code",
   "execution_count": 22,
   "metadata": {},
   "outputs": [],
   "source": [
    "import sys"
   ]
  },
  {
   "cell_type": "code",
   "execution_count": 23,
   "metadata": {},
   "outputs": [
    {
     "data": {
      "text/plain": [
       "9223372036854775807"
      ]
     },
     "execution_count": 23,
     "metadata": {},
     "output_type": "execute_result"
    }
   ],
   "source": [
    "sys.maxsize"
   ]
  },
  {
   "cell_type": "code",
   "execution_count": 24,
   "metadata": {},
   "outputs": [
    {
     "data": {
      "text/plain": [
       "{1: [1, 3, 5, 8], 2: [2, 4, 6, 8]}"
      ]
     },
     "execution_count": 24,
     "metadata": {},
     "output_type": "execute_result"
    }
   ],
   "source": [
    "nodes"
   ]
  },
  {
   "cell_type": "code",
   "execution_count": 27,
   "metadata": {},
   "outputs": [
    {
     "data": {
      "text/plain": [
       "2"
      ]
     },
     "execution_count": 27,
     "metadata": {},
     "output_type": "execute_result"
    }
   ],
   "source": [
    "len(nodes)"
   ]
  },
  {
   "cell_type": "code",
   "execution_count": 29,
   "metadata": {},
   "outputs": [],
   "source": [
    "a = [] \n",
    "for i in range(5):\n",
    "    a.append([])"
   ]
  },
  {
   "cell_type": "code",
   "execution_count": 32,
   "metadata": {},
   "outputs": [
    {
     "data": {
      "text/plain": [
       "[2, 2, 2, 2]"
      ]
     },
     "execution_count": 32,
     "metadata": {},
     "output_type": "execute_result"
    }
   ],
   "source": [
    "[2]*4"
   ]
  },
  {
   "cell_type": "code",
   "execution_count": 35,
   "metadata": {},
   "outputs": [
    {
     "data": {
      "text/plain": [
       "0.4240199909307004"
      ]
     },
     "execution_count": 35,
     "metadata": {},
     "output_type": "execute_result"
    }
   ],
   "source": [
    "import numpy as np\n",
    "np.random.rand()"
   ]
  },
  {
   "cell_type": "code",
   "execution_count": 5,
   "metadata": {},
   "outputs": [
    {
     "data": {
      "text/plain": [
       "[name: \"/device:CPU:0\"\n",
       " device_type: \"CPU\"\n",
       " memory_limit: 268435456\n",
       " locality {\n",
       " }\n",
       " incarnation: 3064043906411663336, name: \"/device:GPU:0\"\n",
       " device_type: \"GPU\"\n",
       " memory_limit: 27721728\n",
       " locality {\n",
       "   bus_id: 1\n",
       "   links {\n",
       "   }\n",
       " }\n",
       " incarnation: 12839940783059352854\n",
       " physical_device_desc: \"device: 0, name: Quadro M5000, pci bus id: 0000:03:00.0, compute capability: 5.2\"]"
      ]
     },
     "execution_count": 5,
     "metadata": {},
     "output_type": "execute_result"
    }
   ],
   "source": [
    "get_available_gpus()\n",
    "device_lib.list_local_devices()"
   ]
  },
  {
   "cell_type": "code",
   "execution_count": null,
   "metadata": {},
   "outputs": [],
   "source": []
  }
 ],
 "metadata": {
  "kernelspec": {
   "display_name": "Python 3",
   "language": "python",
   "name": "python3"
  },
  "language_info": {
   "codemirror_mode": {
    "name": "ipython",
    "version": 3
   },
   "file_extension": ".py",
   "mimetype": "text/x-python",
   "name": "python",
   "nbconvert_exporter": "python",
   "pygments_lexer": "ipython3",
   "version": "3.5.4"
  }
 },
 "nbformat": 4,
 "nbformat_minor": 2
}
