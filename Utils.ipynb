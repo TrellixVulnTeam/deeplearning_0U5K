{
 "cells": [
  {
   "cell_type": "code",
   "execution_count": 32,
   "metadata": {},
   "outputs": [
    {
     "name": "stdout",
     "output_type": "stream",
     "text": [
      "Overwriting utils/Utils.py\n"
     ]
    }
   ],
   "source": [
    "%%writefile utils/Utils.py\n",
    "from tensorflow.python.client import device_lib\n",
    "\n",
    "\n",
    "def get_available_gpus():\n",
    "    local_device_protos = device_lib.list_local_devices()\n",
    "    return [x.name for x in local_device_protos if x.device_type == 'GPU']\n",
    "\n",
    "def get_ip(domain):\n",
    "    import requests\n",
    "    from bs4 import BeautifulSoup\n",
    "    url = \"http://ip.chinaz.com/\" + domain\n",
    "    resp = requests.get(url)\n",
    "    soup = BeautifulSoup(resp.text)\n",
    "    x = soup.find(class_=\"IcpMain02\")\n",
    "\n",
    "\n",
    "    \n",
    "    x = x.find_all(\"span\", class_=\"Whwtdhalf\")\n",
    "    try:\n",
    "        print(\"%s %s\" % (x[5].text, x[4].text))\n",
    "    except:\n",
    "        pass\n",
    "\n",
    "\n",
    "get_available_gpus()\n",
    "device_lib.list_local_devices()"
   ]
  },
  {
   "cell_type": "code",
   "execution_count": 33,
   "metadata": {},
   "outputs": [],
   "source": [
    "% run -i utils/Utils.py"
   ]
  },
  {
   "cell_type": "code",
   "execution_count": 1,
   "metadata": {},
   "outputs": [
    {
     "name": "stderr",
     "output_type": "stream",
     "text": [
      "UsageError: %%writefile is a cell magic, but the cell body is empty.\n"
     ]
    }
   ],
   "source": [
    "%%writefile spark_02.py\n",
    "# -*- coding: utf-8 -*-\n",
    "import os\n",
    "import sys\n",
    "\n",
    "import pandas as pd\n",
    "from pyspark.sql import SparkSession\n",
    "from pyspark.sql import SQLContext\n",
    "\n",
    "PROJECT_DIR = os.path.abspath('..')\n",
    "SPARK_HOME = '/opt/modules'  + '/spark-2.3.0'\n",
    "\n",
    "os.environ['SPARK_HOME'] = SPARK_HOME\n",
    "sys.path.append(SPARK_HOME + \"/python\")\n",
    "sys.path.append(SPARK_HOME + \"/python/lib/py4j-0.10.4-src.zip\")\n",
    "print(sys.path)\n",
    "from pyspark import SparkContext, SparkConf\n",
    "\n",
    "appName = \"spark2django\"  # 应用程序名称\n",
    "master = \"spark://192.168.100.34:7077\"  # 222.28.78.90:7077为主节点ip和端口，请换成自己的主节点主机名称\n",
    "conf = SparkConf().setAppName(appName).setMaster(master)\n",
    "sc = SparkContext(conf=conf)\n",
    "\n",
    "\n",
    "def getTest():\n",
    "    data = [1, 2, 3, 4, 5]\n",
    "    distData = sc.parallelize(data)\n",
    "    res = distData.reduce(lambda a, b: a + b)\n",
    "    print (res)\n",
    "    return res\n",
    "def textfile():\n",
    "    text_file = sc.textFile(\"hdfs:///sparkdir/dfile1\")\n",
    "    print(text_file.collect())\n",
    "    df = text_file.map(lambda r: Row(r)).toDF([\"line\"])\n",
    "    print(df)\n",
    "    \n",
    "def save_2_mysql():\n",
    "\n",
    "\n",
    "def map_extract(element):\n",
    "    file_path, content = element\n",
    "    year = file_path[-8:-4]\n",
    "    return [(year, i) for i in content.split(\"\\r\\n\") if i]\n",
    "spark = SparkSession\\\n",
    "    .builder\\\n",
    "    .appName(\"PythonTest\")\\\n",
    "    .getOrCreate()\n",
    "\n",
    "res = spark.sparkContext.wholeTextFiles('hdfs://localhost:8020/datatnt/names',\n",
    "                        minPartitions=40)  \\\n",
    "        .map(map_extract) \\\n",
    "        .flatMap(lambda x: x) \\\n",
    "        .map(lambda x: (x[0], int(x[1].split(',')[2]))) \\\n",
    "        .reduceByKey(lambda x,y:x+y)\n",
    "\n",
    "df = res.toDF([\"key\",\"num\"])  #把已有数据列改成和目标mysql表的列的名字相同\n",
    "# print(dir(df))\n",
    "df.printSchema()\n",
    "print(df.show())\n",
    "df.printSchema()\n",
    "\n",
    "df.write.format(\"jdbc\").options(\n",
    "    url=\"jdbc:mysql://localhost:3306/leaf\",\n",
    "    driver=\"com.mysql.cj.jdbc.Driver\",\n",
    "    dbtable=\"spark\",\n",
    "    user=\"root\",\n",
    "    password=\"xx@123456\").mode('append').save()\n",
    "if __name__ == '__main__':\n",
    "    getTest()\n",
    "    #textfile()\n"
   ]
  },
  {
   "cell_type": "code",
   "execution_count": 2,
   "metadata": {},
   "outputs": [],
   "source": [
    "# !git st"
   ]
  },
  {
   "cell_type": "code",
   "execution_count": null,
   "metadata": {},
   "outputs": [],
   "source": []
  },
  {
   "cell_type": "code",
   "execution_count": null,
   "metadata": {},
   "outputs": [],
   "source": []
  },
  {
   "cell_type": "code",
   "execution_count": null,
   "metadata": {},
   "outputs": [],
   "source": []
  },
  {
   "cell_type": "code",
   "execution_count": null,
   "metadata": {},
   "outputs": [],
   "source": []
  }
 ],
 "metadata": {
  "kernelspec": {
   "display_name": "Python 3",
   "language": "python",
   "name": "python3"
  },
  "language_info": {
   "codemirror_mode": {
    "name": "ipython",
    "version": 3
   },
   "file_extension": ".py",
   "mimetype": "text/x-python",
   "name": "python",
   "nbconvert_exporter": "python",
   "pygments_lexer": "ipython3",
   "version": "3.5.4"
  }
 },
 "nbformat": 4,
 "nbformat_minor": 2
}
